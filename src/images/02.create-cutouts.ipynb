version https://git-lfs.github.com/spec/v1
oid sha256:b50e8ee32fabe8352c8b927986373a91d70d77189e6eea868fa7b0e926d619c3
size 14065
