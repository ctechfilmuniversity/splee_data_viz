version https://git-lfs.github.com/spec/v1
oid sha256:41d2b0f882c9e2acebd4d98e498541ba61efebcee4b05ee8418a9248ee9ab7e7
size 28384
